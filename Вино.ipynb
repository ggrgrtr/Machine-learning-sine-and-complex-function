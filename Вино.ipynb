{
  "nbformat": 4,
  "nbformat_minor": 0,
  "metadata": {
    "colab": {
      "provenance": [],
      "authorship_tag": "ABX9TyODHOA7eKFQS415ZPj7gNHb",
      "include_colab_link": true
    },
    "kernelspec": {
      "name": "python3",
      "display_name": "Python 3"
    },
    "language_info": {
      "name": "python"
    }
  },
  "cells": [
    {
      "cell_type": "markdown",
      "metadata": {
        "id": "view-in-github",
        "colab_type": "text"
      },
      "source": [
        "<a href=\"https://colab.research.google.com/github/ggrgrtr/Machine-learning-sine-and-complex-function/blob/main/%D0%92%D0%B8%D0%BD%D0%BE.ipynb\" target=\"_parent\"><img src=\"https://colab.research.google.com/assets/colab-badge.svg\" alt=\"Open In Colab\"/></a>"
      ]
    },
    {
      "cell_type": "code",
      "execution_count": 19,
      "metadata": {
        "id": "GI4kctuZoPDV"
      },
      "outputs": [],
      "source": [
        "import random\n",
        "import torch\n",
        "import numpy as np\n",
        "\n",
        "# установение постоянной случайности\n",
        "random.seed(0)\n",
        "np.random.seed(0)\n",
        "torch.manual_seed(0)\n",
        "torch.cuda.manual_seed(0)\n",
        "torch.backends.cudnn.deterministic=True"
      ]
    },
    {
      "cell_type": "code",
      "source": [
        "# импортироание датасетов для обучения н.с.\n",
        "import sklearn.datasets\n",
        "wine=sklearn.datasets.load_wine()\n",
        "wine.data.shape"
      ],
      "metadata": {
        "colab": {
          "base_uri": "https://localhost:8080/"
        },
        "id": "yogj2ituoncw",
        "outputId": "80cdbab7-4fc7-477e-f3a8-698dae86938a"
      },
      "execution_count": 20,
      "outputs": [
        {
          "output_type": "execute_result",
          "data": {
            "text/plain": [
              "(178, 13)"
            ]
          },
          "metadata": {},
          "execution_count": 20
        }
      ]
    },
    {
      "cell_type": "code",
      "source": [
        "# импортирование train_test_split для передаче массивов данных, разбитых по категориям\n",
        "from sklearn.model_selection import train_test_split\n",
        "\n",
        "x_train,x_test,y_train, y_test =train_test_split(wine.data[:, :2],wine.target,test_size=0.3,shuffle=True,stratify = wine.target)\n",
        "\n",
        "\n",
        "# переопределение массивов в тензоры\n",
        "x_train=torch.FloatTensor(x_train)\n",
        "x_test=torch.FloatTensor(x_test)\n",
        "\n",
        "y_train=torch.LongTensor(y_train)\n",
        "y_test=torch.LongTensor(y_test)\n",
        "\n",
        "\n",
        "device = torch.device('cuda:0'\n",
        "                      if torch.cuda.is_available()\n",
        "                      else 'cpu')\n",
        "x_train=x_train.to(device)\n",
        "y_train=y_train.to(device)\n",
        "x_test=x_test.to(device)\n",
        "y_test=y_test.to(device)\n"
      ],
      "metadata": {
        "id": "F0rU_24TqAgO"
      },
      "execution_count": 21,
      "outputs": []
    },
    {
      "cell_type": "code",
      "source": [
        "class WineNet(torch.nn.Module):\n",
        "  def __init__(self, n):\n",
        "    super(WineNet,self).__init__() # подбираем оптимльное кол-во скрытых слоев\n",
        "\n",
        "    self.f1=torch.nn.Linear(2,n)\n",
        "    self.act1=torch.nn.Sigmoid()\n",
        "\n",
        "    # РУЧНАЯ ПАРАМЕТРОТИЗАЦИЯ ПРОГРАММЫ\n",
        "    # self.f2=torch.nn.Linear(n,n)\n",
        "    # self.act2=torch.nn.Sigmoid()\n",
        "\n",
        "    self.f3=torch.nn.Linear(n,3)\n",
        "\n",
        "    self.softChance=torch.nn.Softmax(dim=1)\n",
        "\n",
        "  #\n",
        "  def forward(self,x):\n",
        "    x=self.f1(x)\n",
        "    x=self.act1(x)\n",
        "    # x=self.f2(x)\n",
        "    # x=self.act2(x)\n",
        "    x=self.f3(x)\n",
        "    return x\n",
        "\n",
        "  def inference(self,x):\n",
        "    x=self.forward(x)\n",
        "    x=self.softChance(x)\n",
        "    return x\n",
        "\n",
        "\n",
        "net=WineNet(5)\n",
        "net=net.to(device)\n",
        "\n",
        "loss_f=torch.nn.CrossEntropyLoss() # Ф. потерь: кросс-энтропия\n",
        "\n",
        "method_of_grad_steps=torch.optim.Adam(net.parameters(),lr=1.0e-3)"
      ],
      "metadata": {
        "id": "0P9TAZiArKjP"
      },
      "execution_count": 22,
      "outputs": []
    },
    {
      "cell_type": "code",
      "source": [
        "np.random.permutation(5)"
      ],
      "metadata": {
        "colab": {
          "base_uri": "https://localhost:8080/"
        },
        "id": "Yt0Dn27mDlSg",
        "outputId": "0133898c-ac1d-4567-b49a-a58a4682aecd"
      },
      "execution_count": 23,
      "outputs": [
        {
          "output_type": "execute_result",
          "data": {
            "text/plain": [
              "array([3, 2, 1, 4, 0])"
            ]
          },
          "metadata": {},
          "execution_count": 23
        }
      ]
    },
    {
      "cell_type": "code",
      "source": [
        "batch_size=10 # куча - 10 эл.\n",
        "\n",
        "pr1=0\n",
        "for epoch in range(5000): # использование кусочного обучения\n",
        "  order_train =np.random.permutation(len(x_train)) # создание списка перемешанных индексов для взятия значений трнировочного Тензора\n",
        "  # order_train=order_train.to(device)\n",
        "\n",
        "  for start_i in range(0,len(x_train),batch_size):\n",
        "    method_of_grad_steps.zero_grad() # обнуение градиента для нахождения нового\n",
        "\n",
        "    batches_i =order_train[start_i:start_i+batch_size]  # создание кучи из 10 индексов\n",
        "    x_batch_data =x_train[batches_i]                    # взятие элементов кучи (параметров начального тензора)\n",
        "    x_batch_data=x_batch_data.to(device)\n",
        "    y_batch_data =y_train[batches_i]\n",
        "    y_batch_data=y_batch_data.to(device)                    # взятие элементов-таргетов кучи (результата)\n",
        "\n",
        "\n",
        "    # обучение н.с. по /куче/ параметров\n",
        "    predictions =net.forward(x_batch_data)\n",
        "\n",
        "    loss_val =loss_f(predictions,y_batch_data)\n",
        "    loss_val.backward()\n",
        "\n",
        "    method_of_grad_steps.step() # шаг градиентного спуска\n",
        "\n",
        "  if epoch%100==0:\n",
        "    test_preds =net.forward(x_test)\n",
        "    test_preds =test_preds.argmax(dim=1) #показывает какой выход был с наиб. знач. -> с высшей вероятностью\n",
        "    pr1=(test_preds==y_test).float().mean()\n",
        "    print(pr1) # ср. зн. тензора сопадений тензоров\n"
      ],
      "metadata": {
        "id": "Gk0-s4T2DzCI",
        "colab": {
          "base_uri": "https://localhost:8080/",
          "height": 332
        },
        "outputId": "106cf65e-28c3-4dd6-a1b4-4ed6d12b7a77"
      },
      "execution_count": 24,
      "outputs": [
        {
          "output_type": "stream",
          "name": "stdout",
          "text": [
            "tensor(0.3889)\n",
            "tensor(0.4815)\n",
            "tensor(0.5370)\n",
            "tensor(0.6111)\n",
            "tensor(0.6667)\n",
            "tensor(0.6852)\n",
            "tensor(0.7593)\n"
          ]
        },
        {
          "output_type": "error",
          "ename": "KeyboardInterrupt",
          "evalue": "",
          "traceback": [
            "\u001b[0;31m---------------------------------------------------------------------------\u001b[0m",
            "\u001b[0;31mKeyboardInterrupt\u001b[0m                         Traceback (most recent call last)",
            "\u001b[0;32m/tmp/ipython-input-2875031266.py\u001b[0m in \u001b[0;36m<cell line: 0>\u001b[0;34m()\u001b[0m\n\u001b[1;32m     11\u001b[0m     \u001b[0mbatches_i\u001b[0m \u001b[0;34m=\u001b[0m\u001b[0morder_train\u001b[0m\u001b[0;34m[\u001b[0m\u001b[0mstart_i\u001b[0m\u001b[0;34m:\u001b[0m\u001b[0mstart_i\u001b[0m\u001b[0;34m+\u001b[0m\u001b[0mbatch_size\u001b[0m\u001b[0;34m]\u001b[0m  \u001b[0;31m# создание кучи из 10 индексов\u001b[0m\u001b[0;34m\u001b[0m\u001b[0;34m\u001b[0m\u001b[0m\n\u001b[1;32m     12\u001b[0m     \u001b[0mx_batch_data\u001b[0m \u001b[0;34m=\u001b[0m\u001b[0mx_train\u001b[0m\u001b[0;34m[\u001b[0m\u001b[0mbatches_i\u001b[0m\u001b[0;34m]\u001b[0m                    \u001b[0;31m# взятие элементов кучи (параметров начального тензора)\u001b[0m\u001b[0;34m\u001b[0m\u001b[0;34m\u001b[0m\u001b[0m\n\u001b[0;32m---> 13\u001b[0;31m     \u001b[0mx_batch_data\u001b[0m\u001b[0;34m=\u001b[0m\u001b[0mx_batch_data\u001b[0m\u001b[0;34m.\u001b[0m\u001b[0mto\u001b[0m\u001b[0;34m(\u001b[0m\u001b[0mdevice\u001b[0m\u001b[0;34m)\u001b[0m\u001b[0;34m\u001b[0m\u001b[0;34m\u001b[0m\u001b[0m\n\u001b[0m\u001b[1;32m     14\u001b[0m     \u001b[0my_batch_data\u001b[0m \u001b[0;34m=\u001b[0m\u001b[0my_train\u001b[0m\u001b[0;34m[\u001b[0m\u001b[0mbatches_i\u001b[0m\u001b[0;34m]\u001b[0m\u001b[0;34m\u001b[0m\u001b[0;34m\u001b[0m\u001b[0m\n\u001b[1;32m     15\u001b[0m     \u001b[0my_batch_data\u001b[0m\u001b[0;34m=\u001b[0m\u001b[0my_batch_data\u001b[0m\u001b[0;34m.\u001b[0m\u001b[0mto\u001b[0m\u001b[0;34m(\u001b[0m\u001b[0mdevice\u001b[0m\u001b[0;34m)\u001b[0m                    \u001b[0;31m# взятие элементов-таргетов кучи (результата)\u001b[0m\u001b[0;34m\u001b[0m\u001b[0;34m\u001b[0m\u001b[0m\n",
            "\u001b[0;31mKeyboardInterrupt\u001b[0m: "
          ]
        }
      ]
    },
    {
      "cell_type": "code",
      "source": [
        "import matplotlib.pyplot as plt\n",
        "\n",
        "\n",
        "\n",
        "\n",
        "# покажем важные характеристики обучения\n",
        "# Предсказания на тестовых данных\n",
        "with torch.no_grad():\n",
        "    probabilities = net.inference(x_test)\n",
        "    predicted_classes = probabilities.argmax(dim=1).cpu().numpy()\n",
        "\n",
        "# Матрица ошибок\n",
        "from sklearn.metrics import confusion_matrix, classification_report\n",
        "import seaborn as sns\n",
        "\n",
        "cm = confusion_matrix(y_test.cpu().numpy(), predicted_classes)\n",
        "plt.figure(figsize=(8, 6))\n",
        "sns.heatmap(cm, annot=True, fmt='d', cmap='Blues',\n",
        "            xticklabels=wine.target_names,\n",
        "            yticklabels=wine.target_names)\n",
        "plt.title('Confusion Matrix')\n",
        "plt.ylabel('True Label')\n",
        "plt.xlabel('Predicted Label')\n",
        "plt.show()\n",
        "\n",
        "\n",
        "print(\"Classification Report:\")\n",
        "print(classification_report(y_test.cpu().numpy(), predicted_classes,\n",
        "                          target_names=wine.target_names))\n",
        "\n",
        "\n",
        "%matplotlib inline\n",
        "\n",
        "plt.rcParams['figure.figsize'] = (10, 8)\n",
        "\n",
        "n_classes = 3\n",
        "plot_colors = ['g', 'orange', 'black']\n",
        "plot_step = 0.02\n",
        "\n",
        "x_min, x_max = x_train[:, 0].min() - 1, x_train[:, 0].max() + 1\n",
        "y_min, y_max = x_train[:, 1].min() - 1, x_train[:, 1].max() + 1\n",
        "\n",
        "xx, yy =  torch.meshgrid(torch.arange(x_min, x_max, plot_step),\n",
        "                         torch.arange(y_min, y_max, plot_step))\n",
        "\n",
        "preds = net.inference(\n",
        "    torch.cat([xx.reshape(-1, 1), yy.reshape(-1, 1)], dim=1))\n",
        "\n",
        "preds_class = preds.data.numpy().argmax(axis=1)\n",
        "preds_class = preds_class.reshape(xx.shape)\n",
        "plt.contourf(xx, yy, preds_class, cmap='Accent')\n",
        "\n",
        "for i, color in zip(range(n_classes), plot_colors):\n",
        "    indexes = np.where(y_train == i)\n",
        "    plt.scatter(x_train[indexes, 0],\n",
        "                x_train[indexes, 1],\n",
        "                c=color,\n",
        "                label=wine.target_names[i])\n",
        "    plt.xlabel(wine.feature_names[0])\n",
        "    plt.ylabel(wine.feature_names[1])\n",
        "    plt.legend()\n",
        "\n"
      ],
      "metadata": {
        "id": "Vpxk4juRNTnk"
      },
      "execution_count": null,
      "outputs": []
    },
    {
      "cell_type": "code",
      "source": [
        "from sklearn.metrics import precision_recall_fscore_support\n",
        "\n",
        "# Вычисляем метрики для каждого класса\n",
        "precision, recall, f1, support = precision_recall_fscore_support(\n",
        "    y_test.cpu().numpy(), test_preds, average=None)\n",
        "\n",
        "# График сравнения метрик по классам\n",
        "metrics = ['Precision', 'Recall', 'F1-Score']\n",
        "x_pos = np.arange(len(wine.target_names))\n",
        "\n",
        "plt.figure(figsize=(10, 6))\n",
        "width = 0.25\n",
        "\n",
        "plt.bar(x_pos - width, precision, width, label='Precision', alpha=0.8)\n",
        "plt.bar(x_pos, recall, width, label='Recall', alpha=0.8)\n",
        "plt.bar(x_pos + width, f1, width, label='F1-Score', alpha=0.8)\n",
        "\n",
        "plt.xlabel('Классы')\n",
        "plt.ylabel('Значение метрики')\n",
        "plt.title('Метрики качества по классам')\n",
        "plt.xticks(x_pos, wine.target_names)\n",
        "plt.legend()\n",
        "plt.grid(True, alpha=0.3)\n",
        "plt.ylim(0, 1.1)\n",
        "plt.tight_layout()\n",
        "plt.show()"
      ],
      "metadata": {
        "id": "Odfw7myuNNVd"
      },
      "execution_count": null,
      "outputs": []
    }
  ]
}